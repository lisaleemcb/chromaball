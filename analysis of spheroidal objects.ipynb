{
 "cells": [
  {
   "cell_type": "code",
   "execution_count": 30,
   "id": "2de1a2c6",
   "metadata": {},
   "outputs": [],
   "source": [
    "import numpy as np\n",
    "import matplotlib as mpl\n",
    "import matplotlib.pyplot as plt\n",
    "import pickle"
   ]
  },
  {
   "cell_type": "code",
   "execution_count": 58,
   "id": "c8561231",
   "metadata": {},
   "outputs": [],
   "source": [
    "plt.style.use('seaborn-v0_8-colorblind')\n",
    "plt.rc('text', usetex=True)\n",
    "plt.rc('font', family='serif')"
   ]
  },
  {
   "cell_type": "code",
   "execution_count": 24,
   "id": "7b70f485",
   "metadata": {},
   "outputs": [
    {
     "name": "stdout",
     "output_type": "stream",
     "text": [
      "nfl data incoming...\n"
     ]
    }
   ],
   "source": [
    "# format is: [ team_name, RGB values (len 3), (tackles_home, tackles_away), (completions_home, completions_away) ]\n",
    "\n",
    "with open('nfl2020_data.pkl', 'rb') as fp:\n",
    "    data = pickle.load(fp)\n",
    "    print('nfl data incoming...')"
   ]
  },
  {
   "cell_type": "code",
   "execution_count": 25,
   "id": "6abd6482",
   "metadata": {},
   "outputs": [
    {
     "data": {
      "text/plain": [
       "{'ARI': array([151.,  35.,  63., 427., 423.,   0.,   0.]),\n",
       " 'ATL': array([167.,  25.,  48., 407., 405.,   0.,   0.]),\n",
       " 'BAL': array([ 26.,  25.,  95., 420., 470.,   0.,   0.]),\n",
       " 'BUF': array([  0.,  51., 141., 537., 465.,   0.,   0.]),\n",
       " 'CAR': array([  0., 133., 202., 409., 403.,   0.,   0.]),\n",
       " 'CHI': array([ 11.,  22.,  42., 425., 474.,   0.,   0.]),\n",
       " 'CIN': array([251.,  79.,  20., 412., 399.,   0.,   0.]),\n",
       " 'CLE': array([ 49.,  29.,   0., 409., 522.,   0.,   0.]),\n",
       " 'DAL': array([  0.,  53., 148., 487., 422.,   0.,   0.]),\n",
       " 'DEN': array([251.,  79.,  20., 412., 424.,   0.,   0.]),\n",
       " 'DET': array([  0., 118., 182., 428., 419.,   0.,   0.]),\n",
       " 'GB': array([ 24.,  48.,  40., 465., 410.,   0.,   0.]),\n",
       " 'HOU': array([  3.,  32.,  47., 437., 441.,   0.,   0.]),\n",
       " 'IND': array([  0.,  44.,  95., 416., 448.,   0.,   0.]),\n",
       " 'JAX': array([ 16.,  24.,  32., 428., 432.,   0.,   0.]),\n",
       " 'KC': array([227.,  24.,  55., 526., 440.,   0.,   0.]),\n",
       " 'LA': array([  0.,  53., 148., 424., 482.,   0.,   0.]),\n",
       " 'LAC': array([  0., 128., 198., 385., 411.,   0.,   0.]),\n",
       " 'LV': array([  0.,   0.,   0., 401., 409.,   0.,   0.]),\n",
       " 'MIA': array([  0., 142., 151., 402., 391.,   0.,   0.]),\n",
       " 'MIN': array([ 79.,  38., 131., 462., 375.,   0.,   0.]),\n",
       " 'NE': array([  0.,  34.,  68., 424., 393.,   0.,   0.]),\n",
       " 'NO': array([211., 188., 141., 502., 378.,   0.,   0.]),\n",
       " 'NYG': array([  1.,  35.,  82., 459., 399.,   0.,   0.]),\n",
       " 'NYJ': array([ 18.,  87.,  64., 432., 435.,   0.,   0.]),\n",
       " 'PHI': array([  0.,  76.,  84., 435., 435.,   0.,   0.]),\n",
       " 'PIT': array([255., 182.,  18., 440., 456.,   0.,   0.]),\n",
       " 'SEA': array([  0.,  34.,  68., 486., 444.,   0.,   0.]),\n",
       " 'SF': array([170.,   0.,   0., 409., 381.,   0.,   0.]),\n",
       " 'TB': array([213.,  10.,  10., 495., 549.,   0.,   0.]),\n",
       " 'TEN': array([ 12.,  35.,  64., 518., 406.,   0.,   0.]),\n",
       " 'WAS': array([ 90.,  20.,  20., 459., 402.,   0.,   0.])}"
      ]
     },
     "execution_count": 25,
     "metadata": {},
     "output_type": "execute_result"
    }
   ],
   "source": [
    "data"
   ]
  },
  {
   "cell_type": "code",
   "execution_count": 28,
   "id": "1e03a133",
   "metadata": {},
   "outputs": [
    {
     "data": {
      "text/plain": [
       "array([151.,  35.,  63.])"
      ]
     },
     "execution_count": 28,
     "metadata": {},
     "output_type": "execute_result"
    }
   ],
   "source": [
    "data['ARI'][0:3]"
   ]
  },
  {
   "cell_type": "code",
   "execution_count": 41,
   "id": "4c8dd6d3",
   "metadata": {},
   "outputs": [
    {
     "data": {
      "image/png": "[encoded data removed]",
      "text/plain": [
       "<Figure size 460.8x121.536 with 6 Axes>"
      ]
     },
     "metadata": {
      "needs_background": "light"
     },
     "output_type": "display_data"
    }
   ],
   "source": [
    "cmaps = {}\n",
    "\n",
    "gradient = np.linspace(0, 1, 256)\n",
    "gradient = np.vstack((gradient, gradient))\n",
    "\n",
    "\n",
    "def plot_color_gradients(category, cmap_list):\n",
    "    # Create figure and adjust figure height to number of colormaps\n",
    "    nrows = len(cmap_list)\n",
    "    figh = 0.35 + 0.15 + (nrows + (nrows - 1) * 0.1) * 0.22\n",
    "    fig, axs = plt.subplots(nrows=nrows + 1, figsize=(6.4, figh))\n",
    "    fig.subplots_adjust(top=1 - 0.35 / figh, bottom=0.15 / figh,\n",
    "                        left=0.2, right=0.99)\n",
    "    axs[0].set_title(f'{category} colormaps', fontsize=14)\n",
    "\n",
    "    for ax, name in zip(axs, cmap_list):\n",
    "        ax.imshow(gradient, aspect='auto', cmap=mpl.colormaps[name])\n",
    "        ax.text(-0.01, 0.5, name, va='center', ha='right', fontsize=10,\n",
    "                transform=ax.transAxes)\n",
    "\n",
    "    # Turn off *all* ticks & spines, not just the ones with colormaps.\n",
    "    for ax in axs:\n",
    "        ax.set_axis_off()\n",
    "\n",
    "    # Save colormap list for later.\n",
    "    cmaps[category] = cmap_list\n",
    "\n",
    "plot_color_gradients('Perceptually Uniform Sequential',\n",
    "                 ['viridis', 'plasma', 'inferno', 'magma', 'cividis'])"
   ]
  },
  {
   "cell_type": "code",
   "execution_count": 66,
   "id": "bbe15ad0",
   "metadata": {},
   "outputs": [
    {
     "data": {
      "image/png": "[encoded data removed]",
      "text/plain": [
       "<Figure size 720x827.64 with 32 Axes>"
      ]
     },
     "metadata": {},
     "output_type": "display_data"
    }
   ],
   "source": [
    "nrows = len(data.keys())\n",
    "figh = 0.35 + 0.15 + (nrows + (nrows - 1) * 0.15) * .3 #0.22\n",
    "\n",
    "fig, axs = plt.subplots(nrows=nrows, figsize=(10, figh))\n",
    "fig.subplots_adjust(top=1 - 0.35 / figh, bottom=0.15 / figh,\n",
    "                        left=0.2, right=0.99)\n",
    "axs[0].set_title('Team Colors', fontsize=24)\n",
    "\n",
    "for ax, team in zip(axs, data.keys()):\n",
    "    color = data[team][0:3] / 255\n",
    "    ax.axhline(0, color=color, lw=20)\n",
    "    ax.set_facecolor(color)\n",
    "    ax.text(-0.01, 0.5, team, va='center', ha='right', fontsize=12,\n",
    "            transform=ax.transAxes)\n",
    "\n",
    "    for ax in axs:\n",
    "        ax.tick_params(axis='both', which='both', bottom=False, top=False,\n",
    "                      left=False, right=False, labelbottom=False, labeltop=False,\n",
    "                      labelleft=False, labelright=False)\n"
   ]
  },
  {
   "cell_type": "code",
   "execution_count": null,
   "id": "f693c22d",
   "metadata": {},
   "outputs": [],
   "source": []
  }
 ],
 "metadata": {
  "kernelspec": {
   "display_name": "Python 3 (ipykernel)",
   "language": "python",
   "name": "python3"
  },
  "language_info": {
   "codemirror_mode": {
    "name": "ipython",
    "version": 3
   },
   "file_extension": ".py",
   "mimetype": "text/x-python",
   "name": "python",
   "nbconvert_exporter": "python",
   "pygments_lexer": "ipython3",
   "version": "3.11.0"
  }
 },
 "nbformat": 4,
 "nbformat_minor": 5
}
