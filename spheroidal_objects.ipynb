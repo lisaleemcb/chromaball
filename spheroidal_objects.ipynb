{
 "cells": [
  {
   "cell_type": "code",
   "execution_count": 1,
   "id": "679bb9ee",
   "metadata": {},
   "outputs": [],
   "source": [
    "import numpy as np\n",
    "import matplotlib as plt\n",
    "import nfl_data_py as nfl\n",
    "import pandas as pd"
   ]
  },
  {
   "cell_type": "code",
   "execution_count": 2,
   "id": "ded9f123",
   "metadata": {},
   "outputs": [
    {
     "name": "stdout",
     "output_type": "stream",
     "text": [
      "2020 done.\n",
      "Downcasting floats.\n"
     ]
    }
   ],
   "source": [
    "year = 2020\n",
    "nfl_2020 = nfl.import_pbp_data([year],  downcast=True, cache=False, alt_path=None)"
   ]
  },
  {
   "cell_type": "code",
   "execution_count": 3,
   "id": "3286c9d5",
   "metadata": {},
   "outputs": [],
   "source": [
    "columns = nfl_2020.columns"
   ]
  },
  {
   "cell_type": "code",
   "execution_count": 4,
   "id": "4366f24b",
   "metadata": {
    "scrolled": true
   },
   "outputs": [],
   "source": [
    "#[print(x) for x in columns if 'tac' in x]"
   ]
  },
  {
   "cell_type": "code",
   "execution_count": 5,
   "id": "486665f0",
   "metadata": {},
   "outputs": [],
   "source": [
    "team_ids = np.unique( nfl_2020['home_team'].to_list()  )"
   ]
  },
  {
   "cell_type": "code",
   "execution_count": 6,
   "id": "8735b120",
   "metadata": {},
   "outputs": [
    {
     "data": {
      "text/plain": [
       "array(['ARI', 'ATL', 'BAL', 'BUF', 'CAR', 'CHI', 'CIN', 'CLE', 'DAL',\n",
       "       'DEN', 'DET', 'GB', 'HOU', 'IND', 'JAX', 'KC', 'LA', 'LAC', 'LV',\n",
       "       'MIA', 'MIN', 'NE', 'NO', 'NYG', 'NYJ', 'PHI', 'PIT', 'SEA', 'SF',\n",
       "       'TB', 'TEN', 'WAS'], dtype='<U3')"
      ]
     },
     "execution_count": 6,
     "metadata": {},
     "output_type": "execute_result"
    }
   ],
   "source": [
    "team_ids"
   ]
  },
  {
   "cell_type": "code",
   "execution_count": 7,
   "id": "4bf1609b",
   "metadata": {},
   "outputs": [],
   "source": [
    "assert(len(team_ids)) == 32, 'Post expansion'"
   ]
  },
  {
   "cell_type": "code",
   "execution_count": 8,
   "id": "d1d6a4c4",
   "metadata": {},
   "outputs": [],
   "source": [
    "seattle_home = nfl_2020[ nfl_2020['home_team'] == 'SEA' ]\n",
    "seattle_away = nfl_2020[ nfl_2020['away_team'] == 'SEA' ]"
   ]
  },
  {
   "cell_type": "markdown",
   "id": "bc2c6ecd",
   "metadata": {},
   "source": [
    "we want the tackles done **by** seattle, so seattle can not be the team which possesses the ball"
   ]
  },
  {
   "cell_type": "code",
   "execution_count": 9,
   "id": "230a8fbf",
   "metadata": {},
   "outputs": [],
   "source": [
    "seattle_home = seattle_home[seattle_home['possession_team'] == 'SEA']\n",
    "seattle_away = seattle_away[seattle_away['possession_team'] == 'SEA']"
   ]
  },
  {
   "cell_type": "markdown",
   "id": "355fd917",
   "metadata": {},
   "source": [
    "**home tackles**"
   ]
  },
  {
   "cell_type": "code",
   "execution_count": 10,
   "id": "288bcad5",
   "metadata": {},
   "outputs": [],
   "source": [
    "solo = len(seattle_home[ seattle_home['solo_tackle'] == 1 ] )\n",
    "assisted = len(seattle_home[ seattle_home['assist_tackle'] == 1 ] )\n",
    "seattle_tackles_at_home = solo + assisted"
   ]
  },
  {
   "cell_type": "code",
   "execution_count": 11,
   "id": "8fe16bc8",
   "metadata": {},
   "outputs": [
    {
     "data": {
      "text/plain": [
       "461"
      ]
     },
     "execution_count": 11,
     "metadata": {},
     "output_type": "execute_result"
    }
   ],
   "source": [
    "seattle_tackles_at_home"
   ]
  },
  {
   "cell_type": "markdown",
   "id": "79cf925e",
   "metadata": {},
   "source": [
    "**away tackles**"
   ]
  },
  {
   "cell_type": "code",
   "execution_count": 12,
   "id": "b4dfa4a4",
   "metadata": {},
   "outputs": [],
   "source": [
    "solo = len(seattle_away[ seattle_away['solo_tackle'] ==1 ] )\n",
    "assisted = len(seattle_away[ seattle_away['assist_tackle'] ==1 ] )\n",
    "seattle_tackles_away = solo + assisted"
   ]
  },
  {
   "cell_type": "code",
   "execution_count": 13,
   "id": "0528773c",
   "metadata": {},
   "outputs": [
    {
     "data": {
      "text/plain": [
       "409"
      ]
     },
     "execution_count": 13,
     "metadata": {},
     "output_type": "execute_result"
    }
   ],
   "source": [
    "seattle_tackles_away"
   ]
  },
  {
   "cell_type": "markdown",
   "id": "8fe4fd29",
   "metadata": {},
   "source": [
    ":-) less tackles away!!! okay generalize it"
   ]
  },
  {
   "cell_type": "code",
   "execution_count": 14,
   "id": "0862f27c",
   "metadata": {},
   "outputs": [],
   "source": [
    "def filt_by_team(team, nfl_2020):\n",
    "    #assert type(team) == str, 'something went wrong with team ' + str(team) + ' which is of team ' + str(type(team))\n",
    "    home = nfl_2020[ nfl_2020['home_team'] == str(team) ]\n",
    "    away = nfl_2020[ nfl_2020['away_team'] ==  str(team) ]\n",
    "    \n",
    "    home = home[home['possession_team'] == str(team)]\n",
    "    away = away[away['possession_team'] == str(team)]\n",
    "    \n",
    "    return home, away\n",
    "\n",
    "def total_tackles_home( home ):\n",
    "    solo = len(home[ home['solo_tackle'] == 1 ] )\n",
    "    assisted = len(home[ home['assist_tackle'] == 1 ] )\n",
    "    tackles_at_home = solo + assisted\n",
    "    return tackles_at_home\n",
    "    \n",
    "def total_tackles_away( away ):\n",
    "    solo = len(away[ away['solo_tackle'] ==1 ] )\n",
    "    assisted = len(away[away['assist_tackle'] ==1 ] )\n",
    "    tackles_away = solo + assisted\n",
    "    return tackles_away\n"
   ]
  },
  {
   "cell_type": "markdown",
   "id": "bc8b9bd9",
   "metadata": {},
   "source": [
    "Make dictionary for data where each key is a different team"
   ]
  },
  {
   "cell_type": "code",
   "execution_count": 15,
   "id": "3e29c161",
   "metadata": {},
   "outputs": [],
   "source": [
    "data = {}\n",
    "for team in team_ids:\n",
    "    data[str(team)] = np.zeros((7))"
   ]
  },
  {
   "cell_type": "code",
   "execution_count": 16,
   "id": "233caa5c",
   "metadata": {},
   "outputs": [],
   "source": [
    "for team in team_ids:\n",
    "    home, away = filt_by_team(team, nfl_2020)\n",
    "    \n",
    "    home_tackles, away_tackles = total_tackles_home( home ), total_tackles_away( away )\n",
    "    data[team][3], data[team][4] = home_tackles, away_tackles\n",
    "    # add completions code here please!\n",
    "    # data[team][5], data[team][6] = home_completions, away_completions  \n",
    "    "
   ]
  },
  {
   "cell_type": "code",
   "execution_count": 17,
   "id": "5d375e0d",
   "metadata": {},
   "outputs": [
    {
     "data": {
      "text/plain": [
       "dict_keys(['ARI', 'ATL', 'BAL', 'BUF', 'CAR', 'CHI', 'CIN', 'CLE', 'DAL', 'DEN', 'DET', 'GB', 'HOU', 'IND', 'JAX', 'KC', 'LA', 'LAC', 'LV', 'MIA', 'MIN', 'NE', 'NO', 'NYG', 'NYJ', 'PHI', 'PIT', 'SEA', 'SF', 'TB', 'TEN', 'WAS'])"
      ]
     },
     "execution_count": 17,
     "metadata": {},
     "output_type": "execute_result"
    }
   ],
   "source": [
    "data.keys()"
   ]
  },
  {
   "cell_type": "code",
   "execution_count": 18,
   "id": "4abf15e8",
   "metadata": {},
   "outputs": [],
   "source": [
    "# this is done tediously by hand because no data availabe in a nice format\n",
    "# I guess costume color is not a big priority for football statisticians\n",
    "\n",
    "data['ARI'][0:3] = (151,35,63)\n",
    "data['ATL'][0:3] = (167,25,48)\n",
    "data['BAL'][0:3] = (26,25,95)\n",
    "data['BUF'][0:3] = (0,51,141)\n",
    "data['CAR'][0:3] = (0,133,202)\n",
    "data['CHI'][0:3] = (11,22,42)\n",
    "data['CIN'][0:3] = (251,79,20)\n",
    "data['CLE'][0:3] = (49,29,0)\n",
    "data['DAL'][0:3] = (0,53,148)\n",
    "data['DEN'][0:3] = (251,79,20)\n",
    "data['DET'][0:3] = (0,118,182)\n",
    "data['GB'][0:3] = (24,48,40)\n",
    "data['HOU'][0:3] = (3,32,47)\n",
    "data['IND'][0:3] = (0,44,95)\n",
    "data['JAX'][0:3] = (16,24,32)\n",
    "data['KC'][0:3] = (227,24,55)\n",
    "data['LA'][0:3] = (0,53,148)\n",
    "data['LAC'][0:3] = (0,128,198)\n",
    "data['LV'][0:3] = (0,0,0)\n",
    "data['MIA'][0:3] = (0,142,151)\n",
    "data['MIN'][0:3] = (79,38,131)\n",
    "data['NE'][0:3] = (0,34,68)\n",
    "data['NO'][0:3] = (211,188,141)\n",
    "data['NYG'][0:3] = (1,35,82)\n",
    "data['NYJ'][0:3] = (18,87,64)\n",
    "data['PHI'][0:3] = (0,76,84)\n",
    "data['PIT'][0:3] = (255,182,18)\n",
    "data['SEA'][0:3] = (0,34,68)\n",
    "data['SF'][0:3] = (170,0,0)\n",
    "data['TB'][0:3] = (213,10,10)\n",
    "data['TEN'][0:3] = (12,35,64)\n",
    "data['WAS'][0:3] = (90,20,20)"
   ]
  },
  {
   "cell_type": "markdown",
   "id": "1388d135",
   "metadata": {},
   "source": [
    "Now let's save this data in a python dict format,"
   ]
  },
  {
   "cell_type": "code",
   "execution_count": 22,
   "id": "6b7e4ae3",
   "metadata": {},
   "outputs": [
    {
     "name": "stdout",
     "output_type": "stream",
     "text": [
      "[0.59215686 0.1372549  0.24705882]\n",
      "[0.65490196 0.09803922 0.18823529]\n",
      "[0.10196078 0.09803922 0.37254902]\n",
      "[0.         0.2        0.55294118]\n",
      "[0.         0.52156863 0.79215686]\n",
      "[0.04313725 0.08627451 0.16470588]\n",
      "[0.98431373 0.30980392 0.07843137]\n",
      "[0.19215686 0.11372549 0.        ]\n",
      "[0.         0.20784314 0.58039216]\n",
      "[0.98431373 0.30980392 0.07843137]\n",
      "[0.         0.4627451  0.71372549]\n",
      "[0.09411765 0.18823529 0.15686275]\n",
      "[0.01176471 0.1254902  0.18431373]\n",
      "[0.         0.17254902 0.37254902]\n",
      "[0.0627451  0.09411765 0.1254902 ]\n",
      "[0.89019608 0.09411765 0.21568627]\n",
      "[0.         0.20784314 0.58039216]\n",
      "[0.         0.50196078 0.77647059]\n",
      "[0. 0. 0.]\n",
      "[0.         0.55686275 0.59215686]\n",
      "[0.30980392 0.14901961 0.51372549]\n",
      "[0.         0.13333333 0.26666667]\n",
      "[0.82745098 0.7372549  0.55294118]\n",
      "[0.00392157 0.1372549  0.32156863]\n",
      "[0.07058824 0.34117647 0.25098039]\n",
      "[0.         0.29803922 0.32941176]\n",
      "[1.         0.71372549 0.07058824]\n",
      "[0.         0.13333333 0.26666667]\n",
      "[0.66666667 0.         0.        ]\n",
      "[0.83529412 0.03921569 0.03921569]\n",
      "[0.04705882 0.1372549  0.25098039]\n",
      "[0.35294118 0.07843137 0.07843137]\n"
     ]
    }
   ],
   "source": [
    "# # uncomment to normalize RGB value to be from (0,1)\n",
    "# for team in team_ids:\n",
    "#     data[team][0:3] /= 255\n",
    "#     print(data[team][0:3])\n",
    "#     pass"
   ]
  },
  {
   "cell_type": "code",
   "execution_count": 25,
   "id": "81981388",
   "metadata": {},
   "outputs": [
    {
     "data": {
      "text/plain": [
       "array([5.92156863e-01, 1.37254902e-01, 2.47058824e-01, 4.70000000e+02,\n",
       "       4.21000000e+02, 0.00000000e+00, 0.00000000e+00])"
      ]
     },
     "execution_count": 25,
     "metadata": {},
     "output_type": "execute_result"
    }
   ],
   "source": [
    "data['ARI']"
   ]
  },
  {
   "cell_type": "code",
   "execution_count": 23,
   "id": "10e1460a",
   "metadata": {},
   "outputs": [
    {
     "name": "stdout",
     "output_type": "stream",
     "text": [
      "dictionary saved successfully to file\n"
     ]
    }
   ],
   "source": [
    "import pickle\n",
    "\n",
    "# save dictionary to nfl2020_data.pkl file\n",
    "with open('nfl2020_data_tackles.pkl', 'wb') as fp:\n",
    "    pickle.dump(data, fp)\n",
    "    print('dictionary saved successfully to file')"
   ]
  },
  {
   "cell_type": "code",
   "execution_count": 24,
   "id": "bbd8add7",
   "metadata": {},
   "outputs": [
    {
     "name": "stdout",
     "output_type": "stream",
     "text": [
      "nfl data incoming...\n",
      "{'ARI': array([5.92156863e-01, 1.37254902e-01, 2.47058824e-01, 4.70000000e+02,\n",
      "       4.21000000e+02, 0.00000000e+00, 0.00000000e+00]), 'ATL': array([6.54901961e-01, 9.80392157e-02, 1.88235294e-01, 4.17000000e+02,\n",
      "       4.46000000e+02, 0.00000000e+00, 0.00000000e+00]), 'BAL': array([1.01960784e-01, 9.80392157e-02, 3.72549020e-01, 4.00000000e+02,\n",
      "       5.39000000e+02, 0.00000000e+00, 0.00000000e+00]), 'BUF': array([0.00000000e+00, 2.00000000e-01, 5.52941176e-01, 4.71000000e+02,\n",
      "       4.64000000e+02, 0.00000000e+00, 0.00000000e+00]), 'CAR': array([  0.        ,   0.52156863,   0.79215686, 380.        ,\n",
      "       418.        ,   0.        ,   0.        ]), 'CHI': array([4.31372549e-02, 8.62745098e-02, 1.64705882e-01, 4.31000000e+02,\n",
      "       4.53000000e+02, 0.00000000e+00, 0.00000000e+00]), 'CIN': array([9.84313725e-01, 3.09803922e-01, 7.84313725e-02, 3.99000000e+02,\n",
      "       4.36000000e+02, 0.00000000e+00, 0.00000000e+00]), 'CLE': array([1.92156863e-01, 1.13725490e-01, 0.00000000e+00, 4.08000000e+02,\n",
      "       5.15000000e+02, 0.00000000e+00, 0.00000000e+00]), 'DAL': array([0.00000000e+00, 2.07843137e-01, 5.80392157e-01, 3.90000000e+02,\n",
      "       4.35000000e+02, 0.00000000e+00, 0.00000000e+00]), 'DEN': array([9.84313725e-01, 3.09803922e-01, 7.84313725e-02, 4.05000000e+02,\n",
      "       3.94000000e+02, 0.00000000e+00, 0.00000000e+00]), 'DET': array([  0.        ,   0.4627451 ,   0.71372549, 388.        ,\n",
      "       418.        ,   0.        ,   0.        ]), 'GB': array([9.41176471e-02, 1.88235294e-01, 1.56862745e-01, 5.32000000e+02,\n",
      "       3.85000000e+02, 0.00000000e+00, 0.00000000e+00]), 'HOU': array([1.17647059e-02, 1.25490196e-01, 1.84313725e-01, 3.87000000e+02,\n",
      "       3.85000000e+02, 0.00000000e+00, 0.00000000e+00]), 'IND': array([0.0000000e+00, 1.7254902e-01, 3.7254902e-01, 4.1200000e+02,\n",
      "       5.0100000e+02, 0.0000000e+00, 0.0000000e+00]), 'JAX': array([6.27450980e-02, 9.41176471e-02, 1.25490196e-01, 3.67000000e+02,\n",
      "       4.20000000e+02, 0.00000000e+00, 0.00000000e+00]), 'KC': array([8.90196078e-01, 9.41176471e-02, 2.15686275e-01, 4.64000000e+02,\n",
      "       4.86000000e+02, 0.00000000e+00, 0.00000000e+00]), 'LA': array([0.00000000e+00, 2.07843137e-01, 5.80392157e-01, 4.29000000e+02,\n",
      "       5.54000000e+02, 0.00000000e+00, 0.00000000e+00]), 'LAC': array([  0.        ,   0.50196078,   0.77647059, 480.        ,\n",
      "       449.        ,   0.        ,   0.        ]), 'LV': array([  0.,   0.,   0., 436., 403.,   0.,   0.]), 'MIA': array([  0.        ,   0.55686275,   0.59215686, 416.        ,\n",
      "       413.        ,   0.        ,   0.        ]), 'MIN': array([3.09803922e-01, 1.49019608e-01, 5.13725490e-01, 4.19000000e+02,\n",
      "       4.34000000e+02, 0.00000000e+00, 0.00000000e+00]), 'NE': array([0.00000000e+00, 1.33333333e-01, 2.66666667e-01, 3.91000000e+02,\n",
      "       4.35000000e+02, 0.00000000e+00, 0.00000000e+00]), 'NO': array([  0.82745098,   0.7372549 ,   0.55294118, 520.        ,\n",
      "       449.        ,   0.        ,   0.        ]), 'NYG': array([3.92156863e-03, 1.37254902e-01, 3.21568627e-01, 3.62000000e+02,\n",
      "       4.25000000e+02, 0.00000000e+00, 0.00000000e+00]), 'NYJ': array([7.05882353e-02, 3.41176471e-01, 2.50980392e-01, 3.86000000e+02,\n",
      "       3.79000000e+02, 0.00000000e+00, 0.00000000e+00]), 'PHI': array([0.00000000e+00, 2.98039216e-01, 3.29411765e-01, 4.22000000e+02,\n",
      "       4.03000000e+02, 0.00000000e+00, 0.00000000e+00]), 'PIT': array([1.00000000e+00, 7.13725490e-01, 7.05882353e-02, 4.94000000e+02,\n",
      "       3.40000000e+02, 0.00000000e+00, 0.00000000e+00]), 'SEA': array([0.00000000e+00, 1.33333333e-01, 2.66666667e-01, 4.61000000e+02,\n",
      "       4.09000000e+02, 0.00000000e+00, 0.00000000e+00]), 'SF': array([  0.66666667,   0.        ,   0.        , 402.        ,\n",
      "       451.        ,   0.        ,   0.        ]), 'TB': array([8.35294118e-01, 3.92156863e-02, 3.92156863e-02, 3.87000000e+02,\n",
      "       5.53000000e+02, 0.00000000e+00, 0.00000000e+00]), 'TEN': array([4.70588235e-02, 1.37254902e-01, 2.50980392e-01, 4.45000000e+02,\n",
      "       4.36000000e+02, 0.00000000e+00, 0.00000000e+00]), 'WAS': array([3.52941176e-01, 7.84313725e-02, 7.84313725e-02, 4.69000000e+02,\n",
      "       4.26000000e+02, 0.00000000e+00, 0.00000000e+00])}\n"
     ]
    }
   ],
   "source": [
    "with open('nfl2020_data_tackles.pkl', 'rb') as fp:\n",
    "    data_loaded = pickle.load(fp)\n",
    "    print('nfl data incoming...')\n",
    "    print(data_loaded)"
   ]
  },
  {
   "cell_type": "code",
   "execution_count": null,
   "id": "38a01fa7",
   "metadata": {},
   "outputs": [],
   "source": [
    "data_loaded['ARI']"
   ]
  },
  {
   "cell_type": "code",
   "execution_count": null,
   "id": "54142873",
   "metadata": {},
   "outputs": [],
   "source": []
  }
 ],
 "metadata": {
  "kernelspec": {
   "display_name": "Python 3 (ipykernel)",
   "language": "python",
   "name": "python3"
  },
  "language_info": {
   "codemirror_mode": {
    "name": "ipython",
    "version": 3
   },
   "file_extension": ".py",
   "mimetype": "text/x-python",
   "name": "python",
   "nbconvert_exporter": "python",
   "pygments_lexer": "ipython3",
   "version": "3.11.0"
  }
 },
 "nbformat": 4,
 "nbformat_minor": 5
}
