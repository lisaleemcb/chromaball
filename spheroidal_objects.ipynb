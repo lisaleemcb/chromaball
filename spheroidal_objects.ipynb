{
 "cells": [
  {
   "cell_type": "code",
   "execution_count": 3,
   "id": "679bb9ee",
   "metadata": {},
   "outputs": [],
   "source": [
    "import numpy as np\n",
    "import matplotlib as plt\n",
    "import nfl_data_py as nfl\n",
    "import pandas as pd"
   ]
  },
  {
   "cell_type": "code",
   "execution_count": 2,
   "id": "ded9f123",
   "metadata": {},
   "outputs": [
    {
     "name": "stdout",
     "output_type": "stream",
     "text": [
      "2020 done.\n",
      "Downcasting floats.\n"
     ]
    }
   ],
   "source": [
    "year = 2020\n",
    "nfl_2020 = nfl.import_pbp_data([year],  downcast=True, cache=False, alt_path=None)"
   ]
  },
  {
   "cell_type": "code",
   "execution_count": 4,
   "id": "3286c9d5",
   "metadata": {},
   "outputs": [],
   "source": [
    "columns = nfl_2020.columns"
   ]
  },
  {
   "cell_type": "code",
   "execution_count": 30,
   "id": "4366f24b",
   "metadata": {
    "scrolled": true
   },
   "outputs": [
    {
     "name": "stdout",
     "output_type": "stream",
     "text": [
      "solo_tackle\n",
      "tackled_for_loss\n",
      "assist_tackle\n",
      "tackle_for_loss_1_player_id\n",
      "tackle_for_loss_1_player_name\n",
      "tackle_for_loss_2_player_id\n",
      "tackle_for_loss_2_player_name\n",
      "solo_tackle_1_team\n",
      "solo_tackle_2_team\n",
      "solo_tackle_1_player_id\n",
      "solo_tackle_2_player_id\n",
      "solo_tackle_1_player_name\n",
      "solo_tackle_2_player_name\n",
      "assist_tackle_1_player_id\n",
      "assist_tackle_1_player_name\n",
      "assist_tackle_1_team\n",
      "assist_tackle_2_player_id\n",
      "assist_tackle_2_player_name\n",
      "assist_tackle_2_team\n",
      "assist_tackle_3_player_id\n",
      "assist_tackle_3_player_name\n",
      "assist_tackle_3_team\n",
      "assist_tackle_4_player_id\n",
      "assist_tackle_4_player_name\n",
      "assist_tackle_4_team\n",
      "tackle_with_assist\n",
      "tackle_with_assist_1_player_id\n",
      "tackle_with_assist_1_player_name\n",
      "tackle_with_assist_1_team\n",
      "tackle_with_assist_2_player_id\n",
      "tackle_with_assist_2_player_name\n",
      "tackle_with_assist_2_team\n"
     ]
    },
    {
     "data": {
      "text/plain": [
       "[None,\n",
       " None,\n",
       " None,\n",
       " None,\n",
       " None,\n",
       " None,\n",
       " None,\n",
       " None,\n",
       " None,\n",
       " None,\n",
       " None,\n",
       " None,\n",
       " None,\n",
       " None,\n",
       " None,\n",
       " None,\n",
       " None,\n",
       " None,\n",
       " None,\n",
       " None,\n",
       " None,\n",
       " None,\n",
       " None,\n",
       " None,\n",
       " None,\n",
       " None,\n",
       " None,\n",
       " None,\n",
       " None,\n",
       " None,\n",
       " None,\n",
       " None]"
      ]
     },
     "execution_count": 30,
     "metadata": {},
     "output_type": "execute_result"
    }
   ],
   "source": [
    "[print(x) for x in columns if 'tac' in x]"
   ]
  },
  {
   "cell_type": "code",
   "execution_count": 7,
   "id": "486665f0",
   "metadata": {},
   "outputs": [],
   "source": [
    "team_ids = np.unique( nfl_2020['home_team'].to_list()  )"
   ]
  },
  {
   "cell_type": "code",
   "execution_count": 10,
   "id": "8735b120",
   "metadata": {},
   "outputs": [
    {
     "data": {
      "text/plain": [
       "array(['ARI', 'ATL', 'BAL', 'BUF', 'CAR', 'CHI', 'CIN', 'CLE', 'DAL',\n",
       "       'DEN', 'DET', 'GB', 'HOU', 'IND', 'JAX', 'KC', 'LA', 'LAC', 'LV',\n",
       "       'MIA', 'MIN', 'NE', 'NO', 'NYG', 'NYJ', 'PHI', 'PIT', 'SEA', 'SF',\n",
       "       'TB', 'TEN', 'WAS'], dtype='<U3')"
      ]
     },
     "execution_count": 10,
     "metadata": {},
     "output_type": "execute_result"
    }
   ],
   "source": [
    "team_ids"
   ]
  },
  {
   "cell_type": "code",
   "execution_count": 15,
   "id": "4bf1609b",
   "metadata": {},
   "outputs": [],
   "source": [
    "assert(len(team_ids)) == 32, 'Post expansion'"
   ]
  },
  {
   "cell_type": "code",
   "execution_count": 27,
   "id": "d1d6a4c4",
   "metadata": {},
   "outputs": [],
   "source": [
    "seattle_home = nfl_2020[ nfl_2020['home_team'] == 'SEA' ]\n",
    "seattle_away = nfl_2020[ nfl_2020['away_team'] == 'SEA' ]"
   ]
  },
  {
   "cell_type": "markdown",
   "id": "bc2c6ecd",
   "metadata": {},
   "source": [
    "we want the tackles done **by** seattle, so seattle can not be the team which possesses the ball"
   ]
  },
  {
   "cell_type": "code",
   "execution_count": 28,
   "id": "230a8fbf",
   "metadata": {},
   "outputs": [],
   "source": [
    "seattle_home = seattle_home[seattle_home['possession_team'] != 'SEA']\n",
    "seattle_away = seattle_away[seattle_away['possession_team'] != 'SEA']"
   ]
  },
  {
   "cell_type": "markdown",
   "id": "355fd917",
   "metadata": {},
   "source": [
    "**home tackles**"
   ]
  },
  {
   "cell_type": "code",
   "execution_count": 34,
   "id": "288bcad5",
   "metadata": {},
   "outputs": [],
   "source": [
    "solo = len(seattle_home[ seattle_home['solo_tackle'] ==1 ] )\n",
    "assisted = len(seattle_home[ seattle_home['assist_tackle'] ==1 ] )\n",
    "seattle_tackles_at_home = solo + assisted"
   ]
  },
  {
   "cell_type": "code",
   "execution_count": 35,
   "id": "8fe16bc8",
   "metadata": {},
   "outputs": [
    {
     "data": {
      "text/plain": [
       "486"
      ]
     },
     "execution_count": 35,
     "metadata": {},
     "output_type": "execute_result"
    }
   ],
   "source": [
    "seattle_tackles_at_home"
   ]
  },
  {
   "cell_type": "markdown",
   "id": "79cf925e",
   "metadata": {},
   "source": [
    "**away tackles**"
   ]
  },
  {
   "cell_type": "code",
   "execution_count": 36,
   "id": "b4dfa4a4",
   "metadata": {},
   "outputs": [],
   "source": [
    "solo = len(seattle_away[ seattle_away['solo_tackle'] ==1 ] )\n",
    "assisted = len(seattle_away[ seattle_away['assist_tackle'] ==1 ] )\n",
    "seattle_tackles_away = solo + assisted"
   ]
  },
  {
   "cell_type": "code",
   "execution_count": 37,
   "id": "0528773c",
   "metadata": {},
   "outputs": [
    {
     "data": {
      "text/plain": [
       "444"
      ]
     },
     "execution_count": 37,
     "metadata": {},
     "output_type": "execute_result"
    }
   ],
   "source": [
    "seattle_tackles_away"
   ]
  },
  {
   "cell_type": "markdown",
   "id": "8fe4fd29",
   "metadata": {},
   "source": [
    ":-) less tackles away!!! okay generalize it"
   ]
  },
  {
   "cell_type": "code",
   "execution_count": 48,
   "id": "0862f27c",
   "metadata": {},
   "outputs": [],
   "source": [
    "def filt_by_team(team, nfl_2020):\n",
    "    #assert type(team) == str, 'something went wrong with team ' + str(team) + ' which is of team ' + str(type(team))\n",
    "    home = nfl_2020[ nfl_2020['home_team'] == str(team) ]\n",
    "    away = nfl_2020[ nfl_2020['away_team'] ==  str(team) ]\n",
    "    \n",
    "    home = home[home['possession_team'] != str(team)]\n",
    "    away = away[away['possession_team'] != str(team)]\n",
    "    \n",
    "    return home, away\n",
    "\n",
    "def total_tackles_home( home ):\n",
    "    solo = len(home[ home['solo_tackle'] == 1 ] )\n",
    "    assisted = len(home[ home['assist_tackle'] == 1 ] )\n",
    "    tackles_at_home = solo + assisted\n",
    "    return tackles_at_home\n",
    "    \n",
    "def total_tackles_away( away ):\n",
    "    solo = len(away[ away['solo_tackle'] ==1 ] )\n",
    "    assisted = len(away[away['assist_tackle'] ==1 ] )\n",
    "    tackles_away = solo + assisted\n",
    "    return tackles_away\n"
   ]
  },
  {
   "cell_type": "markdown",
   "id": "bc8b9bd9",
   "metadata": {},
   "source": [
    "Make dictionary for data where each key is a different team"
   ]
  },
  {
   "cell_type": "code",
   "execution_count": 43,
   "id": "3e29c161",
   "metadata": {},
   "outputs": [],
   "source": [
    "data = {}\n",
    "for team in team_ids:\n",
    "    data[str(team)] = np.zeros((2))\n"
   ]
  },
  {
   "cell_type": "code",
   "execution_count": 49,
   "id": "233caa5c",
   "metadata": {},
   "outputs": [],
   "source": [
    "\n",
    "for team in team_ids:\n",
    "    home, away = filt_by_team(team, nfl_2020)\n",
    "    \n",
    "    home_tackles, away_tackles = total_tackles_home( home ), total_tackles_away( away )\n",
    "    \n",
    "    data[team][0], data[team][1] = home_tackles, away_tackles\n",
    "    \n",
    "    "
   ]
  },
  {
   "cell_type": "code",
   "execution_count": 50,
   "id": "5d375e0d",
   "metadata": {},
   "outputs": [
    {
     "data": {
      "text/plain": [
       "dict_keys(['ARI', 'ATL', 'BAL', 'BUF', 'CAR', 'CHI', 'CIN', 'CLE', 'DAL', 'DEN', 'DET', 'GB', 'HOU', 'IND', 'JAX', 'KC', 'LA', 'LAC', 'LV', 'MIA', 'MIN', 'NE', 'NO', 'NYG', 'NYJ', 'PHI', 'PIT', 'SEA', 'SF', 'TB', 'TEN', 'WAS'])"
      ]
     },
     "execution_count": 50,
     "metadata": {},
     "output_type": "execute_result"
    }
   ],
   "source": [
    "data.keys()"
   ]
  },
  {
   "cell_type": "code",
   "execution_count": 51,
   "id": "4abf15e8",
   "metadata": {},
   "outputs": [
    {
     "data": {
      "text/plain": [
       "array([427., 423.])"
      ]
     },
     "execution_count": 51,
     "metadata": {},
     "output_type": "execute_result"
    }
   ],
   "source": [
    "data['ARI']"
   ]
  },
  {
   "cell_type": "code",
   "execution_count": null,
   "id": "0dd3fbcb",
   "metadata": {},
   "outputs": [],
   "source": []
  }
 ],
 "metadata": {
  "kernelspec": {
   "display_name": "Python 3 (ipykernel)",
   "language": "python",
   "name": "python3"
  },
  "language_info": {
   "codemirror_mode": {
    "name": "ipython",
    "version": 3
   },
   "file_extension": ".py",
   "mimetype": "text/x-python",
   "name": "python",
   "nbconvert_exporter": "python",
   "pygments_lexer": "ipython3",
   "version": "3.8.2"
  }
 },
 "nbformat": 4,
 "nbformat_minor": 5
}
