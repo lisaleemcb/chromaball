{
 "cells": [
  {
   "cell_type": "code",
   "execution_count": 6,
   "id": "679bb9ee",
   "metadata": {},
   "outputs": [],
   "source": [
    "import numpy as np\n",
    "import matplotlib as plt\n",
    "import nfl_data_py as nfl\n",
    "import pandas as pd"
   ]
  },
  {
   "cell_type": "code",
   "execution_count": 7,
   "id": "ded9f123",
   "metadata": {},
   "outputs": [
    {
     "name": "stdout",
     "output_type": "stream",
     "text": [
      "2020 done.\n",
      "Downcasting floats.\n"
     ]
    }
   ],
   "source": [
    "year = 2020\n",
    "nfl_2020 = nfl.import_pbp_data([year],  downcast=True, cache=False, alt_path=None)"
   ]
  },
  {
   "cell_type": "code",
   "execution_count": 8,
   "id": "3286c9d5",
   "metadata": {},
   "outputs": [],
   "source": [
    "columns = nfl_2020.columns"
   ]
  },
  {
   "cell_type": "code",
   "execution_count": 15,
   "id": "4366f24b",
   "metadata": {
    "scrolled": true
   },
   "outputs": [],
   "source": [
    "#[print(x) for x in columns if 'tac' in x]"
   ]
  },
  {
   "cell_type": "code",
   "execution_count": 16,
   "id": "486665f0",
   "metadata": {},
   "outputs": [],
   "source": [
    "team_ids = np.unique( nfl_2020['home_team'].to_list()  )"
   ]
  },
  {
   "cell_type": "code",
   "execution_count": 17,
   "id": "8735b120",
   "metadata": {},
   "outputs": [
    {
     "data": {
      "text/plain": [
       "array(['ARI', 'ATL', 'BAL', 'BUF', 'CAR', 'CHI', 'CIN', 'CLE', 'DAL',\n",
       "       'DEN', 'DET', 'GB', 'HOU', 'IND', 'JAX', 'KC', 'LA', 'LAC', 'LV',\n",
       "       'MIA', 'MIN', 'NE', 'NO', 'NYG', 'NYJ', 'PHI', 'PIT', 'SEA', 'SF',\n",
       "       'TB', 'TEN', 'WAS'], dtype='<U3')"
      ]
     },
     "execution_count": 17,
     "metadata": {},
     "output_type": "execute_result"
    }
   ],
   "source": [
    "team_ids"
   ]
  },
  {
   "cell_type": "code",
   "execution_count": 18,
   "id": "4bf1609b",
   "metadata": {},
   "outputs": [],
   "source": [
    "assert(len(team_ids)) == 32, 'Post expansion'"
   ]
  },
  {
   "cell_type": "code",
   "execution_count": 19,
   "id": "d1d6a4c4",
   "metadata": {},
   "outputs": [],
   "source": [
    "seattle_home = nfl_2020[ nfl_2020['home_team'] == 'SEA' ]\n",
    "seattle_away = nfl_2020[ nfl_2020['away_team'] == 'SEA' ]"
   ]
  },
  {
   "cell_type": "markdown",
   "id": "bc2c6ecd",
   "metadata": {},
   "source": [
    "we want the tackles done **by** seattle, so seattle can not be the team which possesses the ball"
   ]
  },
  {
   "cell_type": "code",
   "execution_count": 20,
   "id": "230a8fbf",
   "metadata": {},
   "outputs": [],
   "source": [
    "seattle_home = seattle_home[seattle_home['possession_team'] != 'SEA']\n",
    "seattle_away = seattle_away[seattle_away['possession_team'] != 'SEA']"
   ]
  },
  {
   "cell_type": "markdown",
   "id": "355fd917",
   "metadata": {},
   "source": [
    "**home tackles**"
   ]
  },
  {
   "cell_type": "code",
   "execution_count": 21,
   "id": "288bcad5",
   "metadata": {},
   "outputs": [],
   "source": [
    "solo = len(seattle_home[ seattle_home['solo_tackle'] ==1 ] )\n",
    "assisted = len(seattle_home[ seattle_home['assist_tackle'] ==1 ] )\n",
    "seattle_tackles_at_home = solo + assisted"
   ]
  },
  {
   "cell_type": "code",
   "execution_count": 22,
   "id": "8fe16bc8",
   "metadata": {},
   "outputs": [
    {
     "data": {
      "text/plain": [
       "486"
      ]
     },
     "execution_count": 22,
     "metadata": {},
     "output_type": "execute_result"
    }
   ],
   "source": [
    "seattle_tackles_at_home"
   ]
  },
  {
   "cell_type": "markdown",
   "id": "79cf925e",
   "metadata": {},
   "source": [
    "**away tackles**"
   ]
  },
  {
   "cell_type": "code",
   "execution_count": 23,
   "id": "b4dfa4a4",
   "metadata": {},
   "outputs": [],
   "source": [
    "solo = len(seattle_away[ seattle_away['solo_tackle'] ==1 ] )\n",
    "assisted = len(seattle_away[ seattle_away['assist_tackle'] ==1 ] )\n",
    "seattle_tackles_away = solo + assisted"
   ]
  },
  {
   "cell_type": "code",
   "execution_count": 24,
   "id": "0528773c",
   "metadata": {},
   "outputs": [
    {
     "data": {
      "text/plain": [
       "444"
      ]
     },
     "execution_count": 24,
     "metadata": {},
     "output_type": "execute_result"
    }
   ],
   "source": [
    "seattle_tackles_away"
   ]
  },
  {
   "cell_type": "markdown",
   "id": "8fe4fd29",
   "metadata": {},
   "source": [
    ":-) less tackles away!!! okay generalize it"
   ]
  },
  {
   "cell_type": "code",
   "execution_count": 25,
   "id": "0862f27c",
   "metadata": {},
   "outputs": [],
   "source": [
    "def filt_by_team(team, nfl_2020):\n",
    "    #assert type(team) == str, 'something went wrong with team ' + str(team) + ' which is of team ' + str(type(team))\n",
    "    home = nfl_2020[ nfl_2020['home_team'] == str(team) ]\n",
    "    away = nfl_2020[ nfl_2020['away_team'] ==  str(team) ]\n",
    "    \n",
    "    home = home[home['possession_team'] != str(team)]\n",
    "    away = away[away['possession_team'] != str(team)]\n",
    "    \n",
    "    return home, away\n",
    "\n",
    "def total_tackles_home( home ):\n",
    "    solo = len(home[ home['solo_tackle'] == 1 ] )\n",
    "    assisted = len(home[ home['assist_tackle'] == 1 ] )\n",
    "    tackles_at_home = solo + assisted\n",
    "    return tackles_at_home\n",
    "    \n",
    "def total_tackles_away( away ):\n",
    "    solo = len(away[ away['solo_tackle'] ==1 ] )\n",
    "    assisted = len(away[away['assist_tackle'] ==1 ] )\n",
    "    tackles_away = solo + assisted\n",
    "    return tackles_away\n"
   ]
  },
  {
   "cell_type": "markdown",
   "id": "bc8b9bd9",
   "metadata": {},
   "source": [
    "Make dictionary for data where each key is a different team"
   ]
  },
  {
   "cell_type": "code",
   "execution_count": 49,
   "id": "3e29c161",
   "metadata": {},
   "outputs": [],
   "source": [
    "data = {}\n",
    "for team in team_ids:\n",
    "    data[str(team)] = np.zeros((7))"
   ]
  },
  {
   "cell_type": "code",
   "execution_count": 50,
   "id": "233caa5c",
   "metadata": {},
   "outputs": [],
   "source": [
    "for team in team_ids:\n",
    "    home, away = filt_by_team(team, nfl_2020)\n",
    "    \n",
    "    home_tackles, away_tackles = total_tackles_home( home ), total_tackles_away( away )\n",
    "    data[team][3], data[team][4] = home_tackles, away_tackles\n",
    "    # add completions code here please!\n",
    "    # data[team][5], data[team][6] = home_completions, away_completions\n",
    "    \n",
    "    "
   ]
  },
  {
   "cell_type": "code",
   "execution_count": 39,
   "id": "5d375e0d",
   "metadata": {},
   "outputs": [
    {
     "data": {
      "text/plain": [
       "dict_keys(['ARI', 'ATL', 'BAL', 'BUF', 'CAR', 'CHI', 'CIN', 'CLE', 'DAL', 'DEN', 'DET', 'GB', 'HOU', 'IND', 'JAX', 'KC', 'LA', 'LAC', 'LV', 'MIA', 'MIN', 'NE', 'NO', 'NYG', 'NYJ', 'PHI', 'PIT', 'SEA', 'SF', 'TB', 'TEN', 'WAS'])"
      ]
     },
     "execution_count": 39,
     "metadata": {},
     "output_type": "execute_result"
    }
   ],
   "source": [
    "data.keys()"
   ]
  },
  {
   "cell_type": "code",
   "execution_count": 52,
   "id": "4abf15e8",
   "metadata": {},
   "outputs": [],
   "source": [
    "# this is done tediously by hand because no data availabe in a nice format\n",
    "# I guess costume color is not a big priority for football statisticians\n",
    "\n",
    "data['ARI'][0:3] = (151,35,63)\n",
    "data['ATL'][0:3] = (167,25,48)\n",
    "data['BAL'][0:3] = (26,25,95)\n",
    "data['BUF'][0:3] = (0,51,141)\n",
    "data['CAR'][0:3] = (0,133,202)\n",
    "data['CHI'][0:3] = (11,22,42)\n",
    "data['CIN'][0:3] = (251,79,20)\n",
    "data['CLE'][0:3] = (49,29,0)\n",
    "data['DAL'][0:3] = (0,53,148)\n",
    "data['DEN'][0:3] = (251,79,20)\n",
    "data['DET'][0:3] = (0,118,182)\n",
    "data['GB'][0:3] = (24,48,40)\n",
    "data['HOU'][0:3] = (3,32,47)\n",
    "data['IND'][0:3] = (0,44,95)\n",
    "data['JAX'][0:3] = (16,24,32)\n",
    "data['KC'][0:3] = (227,24,55)\n",
    "data['LA'][0:3] = (0,53,148)\n",
    "data['LAC'][0:3] = (0,128,198)\n",
    "data['LV'][0:3] = (0,0,0)\n",
    "data['MIA'][0:3] = (0,142,151)\n",
    "data['MIN'][0:3] = (79,38,131)\n",
    "data['NE'][0:3] = (0,34,68)\n",
    "data['NO'][0:3] = (211,188,141)\n",
    "data['NYG'][0:3] = (1,35,82)\n",
    "data['NYJ'][0:3] = (18,87,64)\n",
    "data['PHI'][0:3] = (0,76,84)\n",
    "data['PIT'][0:3] = (255,182,18)\n",
    "data['SEA'][0:3] = (0,34,68)\n",
    "data['SF'][0:3] = (170,0,0)\n",
    "data['TB'][0:3] = (213,10,10)\n",
    "data['TEN'][0:3] = (12,35,64)\n",
    "data['WAS'][0:3] = (90,20,20)"
   ]
  },
  {
   "cell_type": "markdown",
   "id": "f510cda8",
   "metadata": {},
   "source": [
    "Now let's save this data in a python dict format,"
   ]
  },
  {
   "cell_type": "code",
   "execution_count": 53,
   "id": "8d148319",
   "metadata": {},
   "outputs": [
    {
     "data": {
      "text/plain": [
       "array([151.,  35.,  63., 427., 423.,   0.,   0.])"
      ]
     },
     "execution_count": 53,
     "metadata": {},
     "output_type": "execute_result"
    }
   ],
   "source": [
    "data['ARI']"
   ]
  },
  {
   "cell_type": "code",
   "execution_count": 54,
   "id": "34be3d50",
   "metadata": {},
   "outputs": [
    {
     "name": "stdout",
     "output_type": "stream",
     "text": [
      "dictionary saved successfully to file\n"
     ]
    }
   ],
   "source": [
    "import pickle\n",
    "\n",
    "# save dictionary to nfl2020_data.pkl file\n",
    "with open('nfl2020_data.pkl', 'wb') as fp:\n",
    "    pickle.dump(data, fp)\n",
    "    print('dictionary saved successfully to file')"
   ]
  },
  {
   "cell_type": "code",
   "execution_count": 55,
   "id": "893047e2",
   "metadata": {},
   "outputs": [
    {
     "name": "stdout",
     "output_type": "stream",
     "text": [
      "nfl data incoming...\n",
      "{'ARI': array([151.,  35.,  63., 427., 423.,   0.,   0.]), 'ATL': array([167.,  25.,  48., 407., 405.,   0.,   0.]), 'BAL': array([ 26.,  25.,  95., 420., 470.,   0.,   0.]), 'BUF': array([  0.,  51., 141., 537., 465.,   0.,   0.]), 'CAR': array([  0., 133., 202., 409., 403.,   0.,   0.]), 'CHI': array([ 11.,  22.,  42., 425., 474.,   0.,   0.]), 'CIN': array([251.,  79.,  20., 412., 399.,   0.,   0.]), 'CLE': array([ 49.,  29.,   0., 409., 522.,   0.,   0.]), 'DAL': array([  0.,  53., 148., 487., 422.,   0.,   0.]), 'DEN': array([251.,  79.,  20., 412., 424.,   0.,   0.]), 'DET': array([  0., 118., 182., 428., 419.,   0.,   0.]), 'GB': array([ 24.,  48.,  40., 465., 410.,   0.,   0.]), 'HOU': array([  3.,  32.,  47., 437., 441.,   0.,   0.]), 'IND': array([  0.,  44.,  95., 416., 448.,   0.,   0.]), 'JAX': array([ 16.,  24.,  32., 428., 432.,   0.,   0.]), 'KC': array([227.,  24.,  55., 526., 440.,   0.,   0.]), 'LA': array([  0.,  53., 148., 424., 482.,   0.,   0.]), 'LAC': array([  0., 128., 198., 385., 411.,   0.,   0.]), 'LV': array([  0.,   0.,   0., 401., 409.,   0.,   0.]), 'MIA': array([  0., 142., 151., 402., 391.,   0.,   0.]), 'MIN': array([ 79.,  38., 131., 462., 375.,   0.,   0.]), 'NE': array([  0.,  34.,  68., 424., 393.,   0.,   0.]), 'NO': array([211., 188., 141., 502., 378.,   0.,   0.]), 'NYG': array([  1.,  35.,  82., 459., 399.,   0.,   0.]), 'NYJ': array([ 18.,  87.,  64., 432., 435.,   0.,   0.]), 'PHI': array([  0.,  76.,  84., 435., 435.,   0.,   0.]), 'PIT': array([255., 182.,  18., 440., 456.,   0.,   0.]), 'SEA': array([  0.,  34.,  68., 486., 444.,   0.,   0.]), 'SF': array([170.,   0.,   0., 409., 381.,   0.,   0.]), 'TB': array([213.,  10.,  10., 495., 549.,   0.,   0.]), 'TEN': array([ 12.,  35.,  64., 518., 406.,   0.,   0.]), 'WAS': array([ 90.,  20.,  20., 459., 402.,   0.,   0.])}\n"
     ]
    }
   ],
   "source": [
    "with open('nfl2020_data.pkl', 'rb') as fp:\n",
    "    data_loaded = pickle.load(fp)\n",
    "    print('nfl data incoming...')\n",
    "    print(data_loaded)"
   ]
  },
  {
   "cell_type": "code",
   "execution_count": 43,
   "id": "57ce16c1",
   "metadata": {},
   "outputs": [
    {
     "data": {
      "text/plain": [
       "array([  0., 427., 423.,   0.,   0.])"
      ]
     },
     "execution_count": 43,
     "metadata": {},
     "output_type": "execute_result"
    }
   ],
   "source": [
    "data_loaded['ARI']"
   ]
  },
  {
   "cell_type": "code",
   "execution_count": null,
   "id": "97a3ff60",
   "metadata": {},
   "outputs": [],
   "source": []
  }
 ],
 "metadata": {
  "kernelspec": {
   "display_name": "Python 3 (ipykernel)",
   "language": "python",
   "name": "python3"
  },
  "language_info": {
   "codemirror_mode": {
    "name": "ipython",
    "version": 3
   },
   "file_extension": ".py",
   "mimetype": "text/x-python",
   "name": "python",
   "nbconvert_exporter": "python",
   "pygments_lexer": "ipython3",
   "version": "3.11.0"
  }
 },
 "nbformat": 4,
 "nbformat_minor": 5
}
